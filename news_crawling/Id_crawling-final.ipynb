{
 "cells": [
  {
   "cell_type": "code",
   "execution_count": 1,
   "metadata": {},
   "outputs": [],
   "source": [
    "from selenium import webdriver\n",
    "from bs4 import BeautifulSoup\n",
    "import urllib.request as ur\n",
    "import random\n",
    "import time\n",
    "import json\n",
    "from selenium.webdriver.common.keys import Keys\n",
    "import math\n",
    "BACKSPACE='/ue003'\n",
    "ENTER='/ue007'"
   ]
  },
  {
   "cell_type": "code",
   "execution_count": 38,
   "metadata": {},
   "outputs": [],
   "source": [
    "def getID(good_list, bad_list):\n",
    "    #날짜 설정\n",
    "#     beg_date = ['1993-01-01', '1996-03-01', '1998-08-01', '2000-08-01',\n",
    "#                 '2001-07-01', '2002-12-01', '2005-04-01', '2008-01-01',\n",
    "#                 '2009-02-01', '2011-08-01', '2013-03-01', '2017-09-01']\n",
    "#     end_date = ['1993-01-31', '1996-03-31', '1998-08-31', '2000-08-31',\n",
    "#                 '2001-07-31', '2002-12-31', '2005-04-30', '2008-01-31',\n",
    "#                 '2009-02-28', '2011-08-31', '2013-03-31', '2017-09-30']\n",
    "    beg_date = ['2017-09-01']\n",
    "    end_date = ['2017-09-30']\n",
    "    keywords = ['판매 증가']\n",
    "    \n",
    "    #webdriver 객체를 만들어 준다.\n",
    "    driver = webdriver.Chrome('./chromedriver') \n",
    "    \n",
    "    for k in range(len(beg_date)):\n",
    "        for key in keywords:\n",
    "            driver.get('https://www.bigkinds.or.kr')\n",
    "            # 모든 자원이 로드될때 까지 기다리게 하는 시간을 직접 지정해 준다.\n",
    "            driver.implicitly_wait(5)\n",
    "            searchkey = key\n",
    "            #검색어를 입력한다.\n",
    "            driver.find_element_by_id('total-search-key').send_keys(searchkey)\n",
    "            #검색버튼을 누른다.\n",
    "            driver.find_element_by_class_name('news-search-btn').click()\n",
    "            driver.implicitly_wait(5) \n",
    "            time.sleep(1.5)\n",
    "            #뉴스 검색버튼을 누른다.\n",
    "            driver.find_element_by_xpath('//*[@id=\"headingOne\"]/h4/a').click()\n",
    "            time.sleep(1.5)\n",
    "            #기간버튼을 누른다.\n",
    "            driver.find_element_by_id('date-filter-btn').click()\n",
    "            time.sleep(1)\n",
    "            #기본값을 지우고 기간을 입력한다.\n",
    "            driver.find_element_by_id('search-begin-date').click()\n",
    "            time.sleep(1)\n",
    "            for i in range(10):\n",
    "                driver.find_element_by_id('search-begin-date').send_keys(Keys.BACKSPACE)\n",
    "            driver.find_element_by_id('search-begin-date').send_keys(beg_date[k])\n",
    "            driver.find_element_by_id('search-begin-date').send_keys(Keys.ENTER)\n",
    "            time.sleep(1)\n",
    "            driver.find_element_by_id('search-end-date').click()\n",
    "            time.sleep(1)\n",
    "            for i in range(10):\n",
    "                driver.find_element_by_id('search-end-date').send_keys(Keys.BACKSPACE)\n",
    "            driver.find_element_by_id('search-end-date').send_keys(end_date[k])\n",
    "            driver.find_element_by_id('search-begin-date').send_keys(Keys.ENTER)\n",
    "            time.sleep(1)\n",
    "            #적용버튼을 누른다.\n",
    "            driver.find_element_by_xpath('//*[@id=\"date-confirm-btn\"]').click()\n",
    "            time.sleep(1)\n",
    "            \n",
    "            #상세검색 버튼을 누른다.\n",
    "            driver.find_element_by_xpath('//*[@id=\"detail-filter-btn\"]').click()\n",
    "            time.sleep(0.5)\n",
    "            #바이그램을 선택한다.\n",
    "            driver.find_element_by_xpath('//*[@id=\"search-filter-type\"]/option[2]').click()\n",
    "            #정확히 일치하는 단어를 입력한다.\n",
    "            driver.find_element_by_id('exactKeyword1').send_keys(searchkey)\n",
    "            #검색버튼을 누른다.\n",
    "            driver.find_element_by_class_name('news-search-btn').click()\n",
    "            time.sleep(1.5)\n",
    "            #다음버튼(7개의 페이지 후)을 몇번 누를 것 인지 계산한다.\n",
    "            html = driver.page_source\n",
    "            soup = BeautifulSoup(html, 'html.parser')\n",
    "            \n",
    "            #검색 결과 없음\n",
    "            if(soup.find('span',{'id':'total-news-cnt'}).text == '0'):\n",
    "                continue\n",
    "            #알 수 없는 에러 (비슷한 숫자가 변환 안된다는 에러가 뜨면 밑의 숫자를 바꾸어주어야 함)\n",
    "            temp = 0\n",
    "            if(',' in soup.find('span',{'id':'total-news-cnt'}).text): \n",
    "                temp = soup.find('span',{'id':'total-news-cnt'}).text\n",
    "                temp = temp[0] + temp[2] + temp[3] + temp[4]\n",
    "                nextbt = float(temp) / 70\n",
    "#                 bad = { 'searchkey' : searchkey,\n",
    "#                         'searchdate' : beg_date[k]\n",
    "#                 }\n",
    "#                 bad_list.append(bad)\n",
    "#                 continue\n",
    "            else : nextbt = float(soup.find('span',{'id':'total-news-cnt'}).text) / 70\n",
    "            \n",
    "#             if(float(soup.find('span',{'id':'total-news-cnt'}).text) % 70 == 0):\n",
    "#                 nextbt -= 1\n",
    "            if(float(nextbt) % 70 == 0):\n",
    "                nextbt -= 1\n",
    "            print(nextbt)\n",
    "            for j in range(int(float(nextbt))+1):\n",
    "                driver.implicitly_wait(7)\n",
    "                #페이지 링크(1, 2, 3, 4 .. 페이지 번호)를 가지고 온다.\n",
    "                time.sleep(2)\n",
    "                pages = driver.find_elements_by_class_name('page-link')\n",
    "                #페이지 링크(0, 1, 은 처음버튼과 이전 버튼입니다. 접근하지 않습니다.)\n",
    "                for i in range(3 , len(pages)):\n",
    "                    driver.implicitly_wait(10)\n",
    "                    time.sleep(3.5)\n",
    "                    pages = driver.find_elements_by_class_name('page-link')\n",
    "                    idlist = []\n",
    "                    #페이지의 elements를 모두 가지고 온다.\n",
    "                    html = driver.page_source\n",
    "                    soup = BeautifulSoup(html, 'html.parser')\n",
    "                    #id가 있는 div로 접근한다.\n",
    "                    ids = soup.find_all('div', attrs = {'class' :'news-item'})\n",
    "\n",
    "                    for id in ids:\n",
    "                        tmp = id.get('data-id')\n",
    "                        form = {'id' : tmp,\n",
    "                                'searchkey' : searchkey,\n",
    "                                'searchdate' : beg_date[k]\n",
    "                        }\n",
    "                        good_list.append(form)\n",
    "                    time.sleep(0.5)\n",
    "                    pages[i].click()"
   ]
  },
  {
   "cell_type": "code",
   "execution_count": 39,
   "metadata": {},
   "outputs": [
    {
     "name": "stdout",
     "output_type": "stream",
     "text": [
      "1.5571428571428572\n"
     ]
    }
   ],
   "source": [
    "# good_list = []\n",
    "# bad_list = []\n",
    "\n",
    "getID(good_list, bad_list)"
   ]
  },
  {
   "cell_type": "code",
   "execution_count": 40,
   "metadata": {},
   "outputs": [
    {
     "data": {
      "text/plain": [
       "120"
      ]
     },
     "execution_count": 40,
     "metadata": {},
     "output_type": "execute_result"
    }
   ],
   "source": [
    "len(good_list)"
   ]
  },
  {
   "cell_type": "code",
   "execution_count": 7,
   "metadata": {},
   "outputs": [
    {
     "data": {
      "text/plain": [
       "[]"
      ]
     },
     "execution_count": 7,
     "metadata": {},
     "output_type": "execute_result"
    }
   ],
   "source": [
    "bad_list"
   ]
  },
  {
   "cell_type": "code",
   "execution_count": null,
   "metadata": {},
   "outputs": [],
   "source": [
    "good_list"
   ]
  },
  {
   "cell_type": "code",
   "execution_count": 41,
   "metadata": {},
   "outputs": [],
   "source": [
    "#json 파일로 만들어준다.\n",
    "json.dump(good_list, open('./Newsid71.json', 'w+'), ensure_ascii=False)\n",
    "# json.dump(bad_list, open('./Newsbadid10.json', 'w+'), ensure_ascii=False)"
   ]
  },
  {
   "cell_type": "code",
   "execution_count": null,
   "metadata": {},
   "outputs": [],
   "source": []
  }
 ],
 "metadata": {
  "kernelspec": {
   "display_name": "Python 3",
   "language": "python",
   "name": "python3"
  },
  "language_info": {
   "codemirror_mode": {
    "name": "ipython",
    "version": 3
   },
   "file_extension": ".py",
   "mimetype": "text/x-python",
   "name": "python",
   "nbconvert_exporter": "python",
   "pygments_lexer": "ipython3",
   "version": "3.7.6"
  }
 },
 "nbformat": 4,
 "nbformat_minor": 4
}
