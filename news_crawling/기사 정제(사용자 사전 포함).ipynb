{
 "cells": [
  {
   "cell_type": "code",
   "execution_count": 68,
   "metadata": {},
   "outputs": [],
   "source": [
    "import pandas as pd\n",
    "import json"
   ]
  },
  {
   "cell_type": "code",
   "execution_count": 69,
   "metadata": {},
   "outputs": [],
   "source": [
    "date = ['1993_01', '1996_03', '1998_08', '2000_08',\n",
    "        '2001_07', '2002_12', '2005_04', '2008_01',\n",
    "        '2009_02', '2011_08', '2013_03', '2017_09']"
   ]
  },
  {
   "cell_type": "code",
   "execution_count": 70,
   "metadata": {},
   "outputs": [],
   "source": [
    "key =['GDP 증가',\n",
    " 'ceo 보수',\n",
    " '가격 지수',\n",
    " '가치주',\n",
    " '가치주식',\n",
    " '경기 변동',\n",
    " '경기 순환',\n",
    " '경기 주기',\n",
    " '경기 침체',\n",
    " '경영자 보수',\n",
    " '경제 성장',\n",
    " '경제 위기',\n",
    " '경제 호황',\n",
    " '고용 증가',\n",
    " '골드만삭스',\n",
    " '구리 가격',\n",
    " '구리 값',\n",
    " '구리 시세',\n",
    " '국가 보조금',\n",
    " '국가 지원금',\n",
    " '국내 실업',\n",
    " '국내 실업률',\n",
    " '국내총생산 증가',\n",
    " '국무총리 연봉',\n",
    " '근로자 급여',\n",
    " '근로자 보수',\n",
    " '근로자 혜택',\n",
    " '급여',\n",
    " '급여 계산',\n",
    " '급여 계산기',\n",
    " '급여란',\n",
    " '급여체계',\n",
    " '대공황',\n",
    " '도시 성장',\n",
    " '도시 확장',\n",
    " '동 가격',\n",
    " '디플레이션',\n",
    " '디플레이션이란',\n",
    " '매출 증가',\n",
    " '매출액 증가',\n",
    " '물가 지수',\n",
    " '물가란',\n",
    " '물가상승',\n",
    " '물가하락',\n",
    " '보상 계획',\n",
    " '보수 시간',\n",
    " '보수 제도',\n",
    " '보수 체계',\n",
    " '보수 컨설팅',\n",
    " '보수란',\n",
    " '보수체계',\n",
    " '불경기',\n",
    " '불황',\n",
    " '산업재해 보상',\n",
    " '산업재해 보험',\n",
    " '산재 보상',\n",
    " '산재 보험',\n",
    " '상여금제도',\n",
    " '생산 기업',\n",
    " '생산 회사',\n",
    " '생산직',\n",
    " '석유 가격',\n",
    " '성과급제도',\n",
    " '성과보상제도',\n",
    " '성장 금융',\n",
    " '성장 산업',\n",
    " '성장주',\n",
    " '세금계산',\n",
    " '세금계산기',\n",
    " '수익 증가',\n",
    " '수익 확대',\n",
    " '스톡옵션',\n",
    " '시장 성장',\n",
    " '시장 확대',\n",
    " '식품 가격',\n",
    " '식품가',\n",
    " '실업 보험',\n",
    " '실업 수당',\n",
    " '에너지 생산',\n",
    " '연봉',\n",
    " '영업 수당',\n",
    " '월급',\n",
    " '이자율',\n",
    " '인플레이션',\n",
    " '인플레이션이란',\n",
    " '일자리 증가',\n",
    " '임금',\n",
    " '임금 계산',\n",
    " '임금 계산법',\n",
    " '전국 실업',\n",
    " '주식기준보상',\n",
    " '중소기업 성장',\n",
    " '중앙은행 기준금리',\n",
    " '철 가격',\n",
    " '철강 가격',\n",
    " '철강 시세',\n",
    " '침체',\n",
    " '투자은행',\n",
    " '투자은행업무',\n",
    " '판매 증가',\n",
    " '한국 물가',\n",
    " '한국 물가상승률',\n",
    " '한국 실업',\n",
    " '한국 실업률',\n",
    " '한국은행 기준금리',\n",
    " '호경기',\n",
    " '휘발유 가격']"
   ]
  },
  {
   "cell_type": "code",
   "execution_count": 71,
   "metadata": {},
   "outputs": [],
   "source": [
    "from konlpy.tag import Mecab\n",
    "engine = Mecab()"
   ]
  },
  {
   "cell_type": "code",
   "execution_count": 72,
   "metadata": {},
   "outputs": [],
   "source": [
    "for period in date:\n",
    "    df = pd.read_json('./' + period + '.json')\n",
    "    for i in range(len(df)):\n",
    "        count = 0\n",
    "        nouns = engine.nouns(df['doc'][i])\n",
    "        nouns = [n for n in nouns if len(n) > 1]\n",
    "        nouns = set(nouns)\n",
    "        nouns = list(nouns)\n",
    "        for k in key:\n",
    "            if(k in nouns):\n",
    "                count += 1\n",
    "        if(count == 0):\n",
    "            df = df.drop(index = i)\n",
    "    #인덱스 초기화 필요\n",
    "    df = df.reset_index()\n",
    "    #pandas 이용하여 json파일 저장시 한글저장이 안되어 다시 json파일로 만들어서 저장\n",
    "    good_list = []\n",
    "    for i in range(len(df)):\n",
    "        info = {\n",
    "            'searchkey' : df['searchkey'][i],\n",
    "            'url' : df['url'][i],\n",
    "            'period' : df['period'][i],\n",
    "            'company' : df['company'][i],\n",
    "            'title' : df['title'][i],\n",
    "            'genre,date,name' : df['genre,date,name'][i],\n",
    "            'doc' : df['doc'][i]\n",
    "        }\n",
    "        good_list.append(info)\n",
    "    json.dump(good_list, open('./re' + period + '.json', 'w+'), ensure_ascii=False)"
   ]
  },
  {
   "cell_type": "code",
   "execution_count": 73,
   "metadata": {},
   "outputs": [
    {
     "name": "stdout",
     "output_type": "stream",
     "text": [
      "1787,1768,4134,4299,7379,6738,6460,10267,18403,13529,13825,10898,"
     ]
    }
   ],
   "source": [
    "for period in date:\n",
    "    df = pd.read_json('./re' + period + '.json')\n",
    "    print(len(df), end = ',')"
   ]
  },
  {
   "cell_type": "code",
   "execution_count": 74,
   "metadata": {},
   "outputs": [
    {
     "data": {
      "text/plain": [
       "99487"
      ]
     },
     "execution_count": 74,
     "metadata": {},
     "output_type": "execute_result"
    }
   ],
   "source": [
    "count = 0\n",
    "for period in date:\n",
    "    df = pd.read_json('./re' + period + '.json')\n",
    "    count +=len(df)\n",
    "count"
   ]
  },
  {
   "cell_type": "code",
   "execution_count": null,
   "metadata": {},
   "outputs": [],
   "source": [
    "num = 1"
   ]
  },
  {
   "cell_type": "code",
   "execution_count": null,
   "metadata": {},
   "outputs": [],
   "source": []
  },
  {
   "cell_type": "code",
   "execution_count": null,
   "metadata": {},
   "outputs": [],
   "source": []
  }
 ],
 "metadata": {
  "kernelspec": {
   "display_name": "Python 3",
   "language": "python",
   "name": "python3"
  },
  "language_info": {
   "codemirror_mode": {
    "name": "ipython",
    "version": 3
   },
   "file_extension": ".py",
   "mimetype": "text/x-python",
   "name": "python",
   "nbconvert_exporter": "python",
   "pygments_lexer": "ipython3",
   "version": "3.7.6"
  }
 },
 "nbformat": 4,
 "nbformat_minor": 4
}
