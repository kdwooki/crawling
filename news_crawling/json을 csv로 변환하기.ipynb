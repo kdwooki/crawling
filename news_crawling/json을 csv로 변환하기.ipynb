{
 "cells": [
  {
   "cell_type": "code",
   "execution_count": 1,
   "metadata": {},
   "outputs": [],
   "source": [
    "import pandas as pd\n",
    "df = pd.read_json('./file') #json 파일을 읽어 옵니다\n",
    "df.to_csv('./savefile')#json 파일을 csv파일로 변환하여 저장합니다."
   ]
  },
  {
   "cell_type": "code",
   "execution_count": 2,
   "metadata": {},
   "outputs": [],
   "source": [
    "date = ['1993_01', '1996_03', '1998_08', '2000_08',\n",
    "        '2001_07', '2002_12', '2005_04', '2008_01',\n",
    "        '2009_02', '2011_08', '2013_03', '2017_09']"
   ]
  },
  {
   "cell_type": "code",
   "execution_count": 5,
   "metadata": {},
   "outputs": [],
   "source": [
    "for period in date:\n",
    "    df = pd.read_json('./re' + period + '.json')\n",
    "    del df['doc']\n",
    "    df.to_csv('./nref' + period + '.csv')"
   ]
  }
 ],
 "metadata": {
  "kernelspec": {
   "display_name": "Python 3",
   "language": "python",
   "name": "python3"
  },
  "language_info": {
   "codemirror_mode": {
    "name": "ipython",
    "version": 3
   },
   "file_extension": ".py",
   "mimetype": "text/x-python",
   "name": "python",
   "nbconvert_exporter": "python",
   "pygments_lexer": "ipython3",
   "version": "3.7.6"
  }
 },
 "nbformat": 4,
 "nbformat_minor": 4
}
