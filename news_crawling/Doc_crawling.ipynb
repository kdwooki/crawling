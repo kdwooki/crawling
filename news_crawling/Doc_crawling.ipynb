{
 "cells": [
  {
   "cell_type": "code",
   "execution_count": 1,
   "metadata": {},
   "outputs": [],
   "source": [
    "from selenium import webdriver\n",
    "from bs4 import BeautifulSoup\n",
    "import urllib.request as ur\n",
    "import random\n",
    "import time\n",
    "import json"
   ]
  },
  {
   "cell_type": "code",
   "execution_count": 39,
   "metadata": {},
   "outputs": [],
   "source": [
    "def getinfo(good_list, bad_list):\n",
    "    #id를 불러온다.\n",
    "    with open('./Newsid.json','r') as f:\n",
    "        idlist = json.load(f)\n",
    "\n",
    "    info = {}\n",
    "    #webdriver 객체를 만들어 준다.\n",
    "    driver = webdriver.Chrome('./chromedriver')\n",
    "    # 모든 자원이 로드될때 까지 기다리게 하는 시간을 직접 지정해 준다.\n",
    "    driver.implicitly_wait(5) \n",
    "\n",
    "    for i in range(len(idlist)):\n",
    "        driver.get('https://www.bigkinds.or.kr/news/newsDetailView.do?newsId='+idlist[i])\n",
    "        driver.implicitly_wait(5) \n",
    "        time.sleep(1)\n",
    "        #페이지의 elements를 모두 가지고 온다.\n",
    "\n",
    "        try:\n",
    "            html = driver.page_source\n",
    "            soup = BeautifulSoup(html, 'html.parser')\n",
    "\n",
    "            company = soup.select('.newsContentTopLogo > img')[0]['alt']\n",
    "            title = soup.select('.newsTitleInner > h3')[0].text\n",
    "            genre = soup.select('.newsTitleInner > p')[0].text\n",
    "            doc = soup.select('.doc_desc')[0].text\n",
    "            info = {\n",
    "                'id' : idlist[i],\n",
    "                'company' : company,\n",
    "                'title' : title,\n",
    "                'genre' : genre,\n",
    "                'doc' : doc\n",
    "            }\n",
    "            good_list.append(info)\n",
    "\n",
    "        except:\n",
    "            bad_list.append(idlist[i])\n",
    "            continue\n"
   ]
  },
  {
   "cell_type": "code",
   "execution_count": 40,
   "metadata": {},
   "outputs": [],
   "source": [
    "good_list=[]\n",
    "bad_list=[]\n",
    "getinfo(good_list, bad_list)"
   ]
  },
  {
   "cell_type": "code",
   "execution_count": 47,
   "metadata": {},
   "outputs": [],
   "source": [
    "json.dump(good_list, open('./Newsinfo.json', 'w+'), ensure_ascii=False)"
   ]
  },
  {
   "cell_type": "code",
   "execution_count": 37,
   "metadata": {},
   "outputs": [],
   "source": [
    "with open('./Newsid.json','r') as f:\n",
    "    idlist = json.load(f)\n",
    "\n",
    "info = {}\n",
    "#webdriver 객체를 만들어 준다.\n",
    "driver = webdriver.Chrome('./chromedriver')\n",
    "# 모든 자원이 로드될때 까지 기다리게 하는 시간을 직접 지정해 준다.\n",
    "driver.implicitly_wait(5) \n",
    "driver.get('https://www.bigkinds.or.kr/news/newsDetailView.do?newsId='+idlist[3])\n",
    "driver.implicitly_wait(5) \n",
    "time.sleep(1)\n",
    "html = driver.page_source\n",
    "soup = BeautifulSoup(html, 'html.parser')\n",
    "\n",
    "company = soup.select('.newsContentTopLogo > img')[0]['alt']\n",
    "title = soup.select('.newsTitleInner > h3')[0].text\n",
    "genre = soup.select('.newsTitleInner > p')[0].text\n",
    "doc = soup.select('.doc_desc')[0].text\n",
    "\n",
    "info = {\n",
    "                'id' : idlist[3],\n",
    "                'company' : company,\n",
    "                'title' : title,\n",
    "                'genre' : genre,\n",
    "                'doc' : doc\n",
    "        }\n"
   ]
  },
  {
   "cell_type": "code",
   "execution_count": 38,
   "metadata": {},
   "outputs": [
    {
     "name": "stdout",
     "output_type": "stream",
     "text": [
      "{'id': '02100851.20090228222004001', 'company': '아주경제', 'title': '美 작년 4분기 성장률 -6.2%', 'genre': '[경제>국제경제] 2009.02.28 /  김용훈', 'doc': '\\n\\t\\t\\t\\t\\t\\t\\t작년 전체성장률 1.3%서 1.1%로 수정미국의 작년 4.4분기 경제성장률이 -6.2%를 기록, 27년 만에 가장 나쁜 경기흐름을 보였다.미 상무부는 27일 국내총생산(GDP) 성장률이 작년 4.4분기에 지난달 추산했던 -3.8%보다 훨씬 가파르게 떨어져 -6.2%를 기록했다고 수정 발표했다. 이에 따라 미국 경제는 1991년이후 처음으로 2분기 연속 마이너스 성장을 기록했다. 작년 3.4분기 성장률은 -0.5%였다. 상무부는 작년 전체 성장률도 1.3%에서 1.1%로 수정했다.이는 1982년 1.4분기의 -6.4% 성장 이후 가장 저조한 것이며 수출이 급감하고 소비자 지출이 거의 30년 사이에 가장 빠른 속도로 줄어들고 재고도 앞서 나온 예상과는 달리 감소한 것으로 판명된 데 따른 영향으로 분석됐다.특히 미국 GDP의 3분의 2 이상을 차지하고 있는 소비자 지출은 작년 4.4분기에 1980년대 이후 최대인 4.3%나 줄었다.소비자 지출은 직전분기에도 3.8% 감소를 기록해 소비자 지출 지표를 산출하기 시작한 1947년 이후 처음으로 연속 3% 이상 감소해 경제위축에 따른 소비심리가 얼마나 얼어붙었는지를 잘 보여줬다.오바마 행정부가 대공황 이후 최악의 경제침체에서 벗어나려고 고강도 경기부양책을 마련하고 있지만 제너럴 모터스(GM)와 JP모건체이스 등 미국의 대표적인 기업들이 일자리를 줄임에 따라 즉각적인 경기부양 효과가 나오지 않고 있음을 드러낸 것이다.존 한콕 파이낸셜 서비스의 수석 이코노미스트인 빌 체니는 블룸버그 TV와 인터뷰에서 \"하락의 속도가 조금도 둔화되지 않고 있다는 증거가 어디에도 없다\"며 \"경기부양책은 올해 중반에야 효과를 발휘하기 시작할 것 같다\"고 말했다.올해 1.4분기부터 미국 경제가 당장 회복될 기미는 없고 잘해야 2.4분기부터 성장세로 돌아설 수 있다는 것이다./연합\\n\\t\\t\\t\\t\\t\\t'}\n"
     ]
    }
   ],
   "source": [
    "print(info)"
   ]
  },
  {
   "cell_type": "code",
   "execution_count": null,
   "metadata": {},
   "outputs": [],
   "source": []
  }
 ],
 "metadata": {
  "kernelspec": {
   "display_name": "Python 3",
   "language": "python",
   "name": "python3"
  },
  "language_info": {
   "codemirror_mode": {
    "name": "ipython",
    "version": 3
   },
   "file_extension": ".py",
   "mimetype": "text/x-python",
   "name": "python",
   "nbconvert_exporter": "python",
   "pygments_lexer": "ipython3",
   "version": "3.7.6"
  }
 },
 "nbformat": 4,
 "nbformat_minor": 4
}
